{
 "cells": [
  {
   "cell_type": "code",
   "execution_count": 18,
   "metadata": {},
   "outputs": [],
   "source": [
    "import pandas as pd\n",
    "import seaborn as sns"
   ]
  },
  {
   "cell_type": "markdown",
   "metadata": {},
   "source": [
    "# Data Cleaning"
   ]
  },
  {
   "cell_type": "code",
   "execution_count": 24,
   "metadata": {},
   "outputs": [
    {
     "name": "stderr",
     "output_type": "stream",
     "text": [
      "C:\\Users\\anand\\AppData\\Local\\Temp\\ipykernel_9376\\1451730680.py:1: DtypeWarning: Columns (47) have mixed types. Specify dtype option on import or set low_memory=False.\n",
      "  data = pd.read_csv(\"loan/loan.csv\")\n"
     ]
    }
   ],
   "source": [
    "data = pd.read_csv(\"loan/loan.csv\")"
   ]
  },
  {
   "cell_type": "markdown",
   "metadata": {},
   "source": [
    "## Step 1: Identifying relevant fields"
   ]
  },
  {
   "cell_type": "code",
   "execution_count": 25,
   "metadata": {},
   "outputs": [],
   "source": [
    "# Taking only relevant columns\n",
    "\n",
    "loan_data=data[['id', 'member_id','loan_amnt','funded_amnt','funded_amnt_inv','term','int_rate','installment', \n",
    "                'grade', 'sub_grade','emp_title','emp_length','home_ownership','annual_inc',\n",
    "                'verification_status','issue_d',\n",
    "                'loan_status','purpose','title','zip_code','addr_state','dti',\n",
    "                'delinq_2yrs','earliest_cr_line','inq_last_6mths','mths_since_last_delinq',\n",
    "                'mths_since_last_record','open_acc','pub_rec','revol_bal','revol_util','total_acc',\n",
    "                'out_prncp','out_prncp_inv','total_pymnt','total_pymnt_inv',\n",
    "                'total_rec_prncp','total_rec_int','total_rec_late_fee','recoveries','collection_recovery_fee',\n",
    "                'last_pymnt_d','last_pymnt_amnt','next_pymnt_d','last_credit_pull_d','pub_rec_bankruptcies'\n",
    "                \n",
    "]]\n",
    "# Need to check later\n",
    "# 'pymnt_plan','url','desc', 'initial_list_status','collections_12_mths_ex_med','mths_since_last_major_derog',\n",
    "# 'policy_code','application_type'"
   ]
  },
  {
   "cell_type": "markdown",
   "metadata": {},
   "source": [
    "## Step 2: Converting Data Type"
   ]
  },
  {
   "cell_type": "markdown",
   "metadata": {},
   "source": [
    "1. term - Convert to numbers (remove 'months')\n",
    "2. int_rate - Convert to number (remove %)\n",
    "3. emp_length - Convert. <1 to 0, 10+ to 10\n",
    "4. emp_title - create new column emp_name, for date > 9/23/2013\n",
    "5. revol_util - Convert to number (remove %) "
   ]
  },
  {
   "cell_type": "code",
   "execution_count": 26,
   "metadata": {},
   "outputs": [],
   "source": [
    "loan_data.loc[:, \"term\"] = loan_data[\"term\"].str.strip().str.replace(\" months\", \"\").astype(int)\n",
    "loan_data.loc[:, \"int_rate\"] = loan_data[\"int_rate\"].str.strip().str.replace(\"%\", \"\").astype(float)\n",
    "loan_data.loc[:, \"revol_util\"] = [\n",
    "    float(x.replace(\"%\", \"\")) if pd.notna(x) else x for x in loan_data[\"revol_util\"]\n",
    "]\n"
   ]
  },
  {
   "cell_type": "code",
   "execution_count": 27,
   "metadata": {},
   "outputs": [],
   "source": [
    "def empLengthConvert(x):\n",
    "    if pd.isna(x):\n",
    "        return\n",
    "    else:\n",
    "        if x=='< 1 year':\n",
    "            return 0\n",
    "        if x=='10+ years':\n",
    "            return 10\n",
    "        else:\n",
    "            return int(x[0:2]);\n",
    "loan_data.loc[:, \"emp_length\"] = [empLengthConvert(x) for x in loan_data[\"emp_length\"]]"
   ]
  },
  {
   "cell_type": "code",
   "execution_count": 29,
   "metadata": {},
   "outputs": [
    {
     "name": "stdout",
     "output_type": "stream",
     "text": [
      "<class 'pandas.core.frame.DataFrame'>\n",
      "RangeIndex: 39717 entries, 0 to 39716\n",
      "Data columns (total 46 columns):\n",
      " #   Column                   Non-Null Count  Dtype  \n",
      "---  ------                   --------------  -----  \n",
      " 0   id                       39717 non-null  int64  \n",
      " 1   member_id                39717 non-null  int64  \n",
      " 2   loan_amnt                39717 non-null  int64  \n",
      " 3   funded_amnt              39717 non-null  int64  \n",
      " 4   funded_amnt_inv          39717 non-null  float64\n",
      " 5   term                     39717 non-null  object \n",
      " 6   int_rate                 39717 non-null  object \n",
      " 7   installment              39717 non-null  float64\n",
      " 8   grade                    39717 non-null  object \n",
      " 9   sub_grade                39717 non-null  object \n",
      " 10  emp_title                37258 non-null  object \n",
      " 11  emp_length               38642 non-null  object \n",
      " 12  home_ownership           39717 non-null  object \n",
      " 13  annual_inc               39717 non-null  float64\n",
      " 14  verification_status      39717 non-null  object \n",
      " 15  issue_d                  39717 non-null  object \n",
      " 16  loan_status              39717 non-null  object \n",
      " 17  purpose                  39717 non-null  object \n",
      " 18  title                    39706 non-null  object \n",
      " 19  zip_code                 39717 non-null  object \n",
      " 20  addr_state               39717 non-null  object \n",
      " 21  dti                      39717 non-null  float64\n",
      " 22  delinq_2yrs              39717 non-null  int64  \n",
      " 23  earliest_cr_line         39717 non-null  object \n",
      " 24  inq_last_6mths           39717 non-null  int64  \n",
      " 25  mths_since_last_delinq   14035 non-null  float64\n",
      " 26  mths_since_last_record   2786 non-null   float64\n",
      " 27  open_acc                 39717 non-null  int64  \n",
      " 28  pub_rec                  39717 non-null  int64  \n",
      " 29  revol_bal                39717 non-null  int64  \n",
      " 30  revol_util               39667 non-null  object \n",
      " 31  total_acc                39717 non-null  int64  \n",
      " 32  out_prncp                39717 non-null  float64\n",
      " 33  out_prncp_inv            39717 non-null  float64\n",
      " 34  total_pymnt              39717 non-null  float64\n",
      " 35  total_pymnt_inv          39717 non-null  float64\n",
      " 36  total_rec_prncp          39717 non-null  float64\n",
      " 37  total_rec_int            39717 non-null  float64\n",
      " 38  total_rec_late_fee       39717 non-null  float64\n",
      " 39  recoveries               39717 non-null  float64\n",
      " 40  collection_recovery_fee  39717 non-null  float64\n",
      " 41  last_pymnt_d             39646 non-null  object \n",
      " 42  last_pymnt_amnt          39717 non-null  float64\n",
      " 43  next_pymnt_d             1140 non-null   object \n",
      " 44  last_credit_pull_d       39715 non-null  object \n",
      " 45  pub_rec_bankruptcies     39020 non-null  float64\n",
      "dtypes: float64(17), int64(10), object(19)\n",
      "memory usage: 13.9+ MB\n"
     ]
    }
   ],
   "source": [
    "# \n",
    "loan_data.info();"
   ]
  },
  {
   "cell_type": "code",
   "execution_count": 30,
   "metadata": {},
   "outputs": [],
   "source": [
    "loan_data.to_csv(\"updated-data.csv\")"
   ]
  },
  {
   "cell_type": "code",
   "execution_count": 34,
   "metadata": {},
   "outputs": [
    {
     "data": {
      "text/plain": [
       "emp_title                  6.191303\n",
       "emp_length                 2.706650\n",
       "title                      0.027696\n",
       "mths_since_last_delinq    64.662487\n",
       "mths_since_last_record    92.985372\n",
       "revol_util                 0.125891\n",
       "last_pymnt_d               0.178765\n",
       "next_pymnt_d              97.129693\n",
       "last_credit_pull_d         0.005036\n",
       "pub_rec_bankruptcies       1.754916\n",
       "dtype: float64"
      ]
     },
     "execution_count": 34,
     "metadata": {},
     "output_type": "execute_result"
    }
   ],
   "source": [
    "\n",
    "df2 = loan_data.isnull().mean()*100\n",
    "df2 = df2[df2>0]\n",
    "df2"
   ]
  },
  {
   "cell_type": "markdown",
   "metadata": {},
   "source": [
    "## Step 3: Checking for outliers"
   ]
  },
  {
   "cell_type": "markdown",
   "metadata": {},
   "source": [
    "# Analysis"
   ]
  },
  {
   "cell_type": "markdown",
   "metadata": {},
   "source": [
    "Check Loan Status vs Purpose percentage.\n",
    "Conclusion - People who take loan for Small business is comparatively not paying the loan (25% is charged off)\n",
    " "
   ]
  },
  {
   "cell_type": "code",
   "execution_count": 28,
   "metadata": {},
   "outputs": [
    {
     "data": {
      "text/plain": [
       "<Axes: xlabel='purpose'>"
      ]
     },
     "execution_count": 28,
     "metadata": {},
     "output_type": "execute_result"
    },
    {
     "data": {
      "image/png": "[encoded data removed]",
      "text/plain": [
       "<Figure size 640x480 with 1 Axes>"
      ]
     },
     "metadata": {},
     "output_type": "display_data"
    }
   ],
   "source": [
    "pt = pd.pivot_table(data=loan_data,  \n",
    "               columns=\"loan_status\", \n",
    "               index=\"purpose\", aggfunc=\"size\",\n",
    "               fill_value=0)\n",
    "ptPercentage  = pt.div(pt.sum(axis=1), axis=0) * 100\n",
    "ptPercentage.plot(kind=\"bar\", stacked=True)"
   ]
  },
  {
   "cell_type": "code",
   "execution_count": null,
   "metadata": {},
   "outputs": [],
   "source": []
  },
  {
   "cell_type": "markdown",
   "metadata": {},
   "source": [
    "## Changing data type"
   ]
  },
  {
   "cell_type": "code",
   "execution_count": null,
   "metadata": {},
   "outputs": [],
   "source": []
  },
  {
   "cell_type": "code",
   "execution_count": null,
   "metadata": {},
   "outputs": [],
   "source": []
  }
 ],
 "metadata": {
  "kernelspec": {
   "display_name": "Python 3 (ipykernel)",
   "language": "python",
   "name": "python3"
  },
  "language_info": {
   "codemirror_mode": {
    "name": "ipython",
    "version": 3
   },
   "file_extension": ".py",
   "mimetype": "text/x-python",
   "name": "python",
   "nbconvert_exporter": "python",
   "pygments_lexer": "ipython3",
   "version": "3.9.20"
  }
 },
 "nbformat": 4,
 "nbformat_minor": 4
}
